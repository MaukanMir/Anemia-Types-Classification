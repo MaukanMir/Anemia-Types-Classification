{
 "cells": [
  {
   "cell_type": "markdown",
   "metadata": {},
   "source": [
    "# Anemia Types Classification"
   ]
  },
  {
   "cell_type": "markdown",
   "metadata": {},
   "source": [
    "# Imports"
   ]
  },
  {
   "cell_type": "code",
   "execution_count": 1,
   "metadata": {},
   "outputs": [],
   "source": [
    "import pandas as pd\n",
    "import numpy as np\n",
    "import seaborn as sns\n",
    "import matplotlib.pyplot as plt\n",
    "\n",
    "from sklearn.preprocessing import LabelEncoder"
   ]
  },
  {
   "cell_type": "markdown",
   "metadata": {},
   "source": [
    "# Functions"
   ]
  },
  {
   "cell_type": "code",
   "execution_count": 3,
   "metadata": {},
   "outputs": [],
   "source": [
    "def check_class_imbalances(target):\n",
    "  \n",
    "  unique, counts = np.unique(target, return_counts=True)\n",
    "  \n",
    "  plt.figure(figsize=(10, 6))\n",
    "  plt.pie(counts, labels=unique, startangle=140, autopct=\"%1.1f%%\")\n",
    "  plt.title(\"Target Class Breakdown\")\n",
    "  plt.show()\n",
    "  \n",
    "  plt.figure(figsize=(10, 6))\n",
    "  sns.countplot(x=target)\n",
    "  plt.xlabel(\"Classes\")\n",
    "  plt.ylabel(\"Counts\")\n",
    "  plt.xticks(rotation=45)\n",
    "  plt.title(\"Target Class Breakdown\")\n",
    "  plt.show()\n",
    "  "
   ]
  },
  {
   "cell_type": "markdown",
   "metadata": {},
   "source": [
    "# EDA"
   ]
  },
  {
   "cell_type": "code",
   "execution_count": null,
   "metadata": {},
   "outputs": [],
   "source": []
  }
 ],
 "metadata": {
  "kernelspec": {
   "display_name": "machine-learning-env",
   "language": "python",
   "name": "python3"
  },
  "language_info": {
   "codemirror_mode": {
    "name": "ipython",
    "version": 3
   },
   "file_extension": ".py",
   "mimetype": "text/x-python",
   "name": "python",
   "nbconvert_exporter": "python",
   "pygments_lexer": "ipython3",
   "version": "3.9.19"
  }
 },
 "nbformat": 4,
 "nbformat_minor": 2
}
